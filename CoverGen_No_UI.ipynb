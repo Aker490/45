{
  "cells": [
    {
      "cell_type": "markdown",
      "metadata": {
        "id": "view-in-github",
        "colab_type": "text"
      },
      "source": [
        "<a href=\"https://colab.research.google.com/github/Aker490/45/blob/main/CoverGen_No_UI.ipynb\" target=\"_parent\"><img src=\"https://colab.research.google.com/assets/colab-badge.svg\" alt=\"Open In Colab\"/></a>"
      ]
    },
    {
      "cell_type": "markdown",
      "source": [
        "https://github.com/ardha27/AICoverGen-NoUI-Colab"
      ],
      "metadata": {
        "id": "PNIn-NKDjYJ3"
      }
    },
    {
      "cell_type": "code",
      "source": [
        "!apt-get update -y\n",
        "!apt-get install python3.9 python3.9-distutils\n",
        "!update-alternatives --install /usr/bin/python3 python3 /usr/bin/python3.9 1\n",
        "!update-alternatives --config python3\n",
        "!apt-get install python3-pip\n",
        "!python3 -m pip install --upgrade pip --user\n",
        "!python --version"
      ],
      "metadata": {
        "colab": {
          "base_uri": "https://localhost:8080/"
        },
        "id": "OlNqvc4m4HWo",
        "outputId": "f5d5d164-1164-44c4-dad1-8b888d289963"
      },
      "execution_count": 4,
      "outputs": [
        {
          "output_type": "stream",
          "name": "stdout",
          "text": [
            "\r0% [Working]\r            \rHit:1 https://cloud.r-project.org/bin/linux/ubuntu jammy-cran40/ InRelease\n",
            "Hit:2 https://developer.download.nvidia.com/compute/cuda/repos/ubuntu2204/x86_64  InRelease\n",
            "Ign:3 https://r2u.stat.illinois.edu/ubuntu jammy InRelease\n",
            "Hit:4 http://security.ubuntu.com/ubuntu jammy-security InRelease\n",
            "Hit:5 http://archive.ubuntu.com/ubuntu jammy InRelease\n",
            "Hit:6 https://r2u.stat.illinois.edu/ubuntu jammy Release\n",
            "Hit:7 http://archive.ubuntu.com/ubuntu jammy-updates InRelease\n",
            "Hit:8 http://archive.ubuntu.com/ubuntu jammy-backports InRelease\n",
            "Hit:10 https://ppa.launchpadcontent.net/deadsnakes/ppa/ubuntu jammy InRelease\n",
            "Hit:11 https://ppa.launchpadcontent.net/graphics-drivers/ppa/ubuntu jammy InRelease\n",
            "Hit:12 https://ppa.launchpadcontent.net/ubuntugis/ppa/ubuntu jammy InRelease\n",
            "Reading package lists... Done\n",
            "W: Skipping acquire of configured file 'main/source/Sources' as repository 'https://r2u.stat.illinois.edu/ubuntu jammy InRelease' does not seem to provide it (sources.list entry misspelt?)\n",
            "Reading package lists... Done\n",
            "Building dependency tree... Done\n",
            "Reading state information... Done\n",
            "python3.9 is already the newest version (3.9.20-1+jammy1).\n",
            "python3.9-distutils is already the newest version (3.9.20-1+jammy1).\n",
            "0 upgraded, 0 newly installed, 0 to remove and 54 not upgraded.\n",
            "There is only one alternative in link group python3 (providing /usr/bin/python3): /usr/bin/python3.9\n",
            "Nothing to configure.\n",
            "Reading package lists... Done\n",
            "Building dependency tree... Done\n",
            "Reading state information... Done\n",
            "python3-pip is already the newest version (22.0.2+dfsg-1ubuntu0.4).\n",
            "0 upgraded, 0 newly installed, 0 to remove and 54 not upgraded.\n",
            "Requirement already satisfied: pip in /root/.local/lib/python3.9/site-packages (24.2)\n",
            "Python 3.9.20\n"
          ]
        }
      ]
    },
    {
      "cell_type": "code",
      "execution_count": 5,
      "metadata": {
        "id": "9pc1cXR_MSZ3",
        "colab": {
          "base_uri": "https://localhost:8080/"
        },
        "outputId": "a960813a-c935-4db7-c479-25807eb8ac8b"
      },
      "outputs": [
        {
          "output_type": "stream",
          "name": "stdout",
          "text": [
            "Cloning into 'AICoverGen'...\n",
            "remote: Enumerating objects: 369, done.\u001b[K\n",
            "remote: Total 369 (delta 0), reused 0 (delta 0), pack-reused 369 (from 1)\u001b[K\n",
            "Receiving objects: 100% (369/369), 1.80 MiB | 28.81 MiB/s, done.\n",
            "Resolving deltas: 100% (230/230), done.\n",
            "/content/AICoverGen\n"
          ]
        }
      ],
      "source": [
        "#@title Clone repository\n",
        "!git clone https://github.com/SociallyIneptWeeb/AICoverGen.git\n",
        "%cd AICoverGen"
      ]
    },
    {
      "cell_type": "code",
      "execution_count": null,
      "metadata": {
        "id": "LgBrHbFtMVaa",
        "colab": {
          "base_uri": "https://localhost:8080/"
        },
        "outputId": "e5808e43-3890-40f9-acb6-989e81fb5f85"
      },
      "outputs": [
        {
          "output_type": "stream",
          "name": "stdout",
          "text": [
            "Collecting pip==23.0.1\n",
            "  Downloading pip-23.0.1-py3-none-any.whl.metadata (4.1 kB)\n",
            "Downloading pip-23.0.1-py3-none-any.whl (2.1 MB)\n",
            "\u001b[?25l   \u001b[90m━━━━━━━━━━━━━━━━━━━━━━━━━━━━━━━━━━━━━━━━\u001b[0m \u001b[32m0.0/2.1 MB\u001b[0m \u001b[31m?\u001b[0m eta \u001b[36m-:--:--\u001b[0m\r\u001b[2K   \u001b[90m━━━━━━━━━━━━━━━━━━━━━━━━━━━━━━━━━━━━━━━━\u001b[0m \u001b[32m2.1/2.1 MB\u001b[0m \u001b[31m50.9 MB/s\u001b[0m eta \u001b[36m0:00:00\u001b[0m\n",
            "\u001b[?25hInstalling collected packages: pip\n",
            "  Attempting uninstall: pip\n",
            "    Found existing installation: pip 24.2\n",
            "    Uninstalling pip-24.2:\n",
            "      Successfully uninstalled pip-24.2\n",
            "Successfully installed pip-23.0.1\n",
            "Looking in links: https://download.pytorch.org/whl/torch_stable.html\n",
            "Collecting deemix\n",
            "  Downloading deemix-3.6.6-py3-none-any.whl (51 kB)\n",
            "\u001b[2K     \u001b[90m━━━━━━━━━━━━━━━━━━━━━━━━━━━━━━━━━━━━━━━━\u001b[0m \u001b[32m52.0/52.0 kB\u001b[0m \u001b[31m1.6 MB/s\u001b[0m eta \u001b[36m0:00:00\u001b[0m\n",
            "\u001b[?25hCollecting fairseq==0.12.2\n",
            "  Downloading fairseq-0.12.2.tar.gz (9.6 MB)\n",
            "\u001b[2K     \u001b[90m━━━━━━━━━━━━━━━━━━━━━━━━━━━━━━━━━━━━━━━━\u001b[0m \u001b[32m9.6/9.6 MB\u001b[0m \u001b[31m22.9 MB/s\u001b[0m eta \u001b[36m0:00:00\u001b[0m\n",
            "\u001b[?25h  Installing build dependencies ... \u001b[?25l\u001b[?25hdone\n",
            "  Getting requirements to build wheel ... \u001b[?25l\u001b[?25hdone\n",
            "  Installing backend dependencies ... \u001b[?25l\u001b[?25hdone\n",
            "  Preparing metadata (pyproject.toml) ... \u001b[?25l\u001b[?25hdone\n",
            "Collecting faiss-cpu==1.7.3\n",
            "  Downloading faiss_cpu-1.7.3-cp39-cp39-manylinux_2_17_x86_64.manylinux2014_x86_64.whl (17.0 MB)\n",
            "\u001b[2K     \u001b[90m━━━━━━━━━━━━━━━━━━━━━━━━━━━━━━━━━━━━━━━━\u001b[0m \u001b[32m17.0/17.0 MB\u001b[0m \u001b[31m71.3 MB/s\u001b[0m eta \u001b[36m0:00:00\u001b[0m\n",
            "\u001b[?25hCollecting ffmpeg-python>=0.2.0\n",
            "  Downloading ffmpeg_python-0.2.0-py3-none-any.whl (25 kB)\n",
            "Collecting gradio==3.39.0\n",
            "  Downloading gradio-3.39.0-py3-none-any.whl (19.9 MB)\n",
            "\u001b[2K     \u001b[90m━━━━━━━━━━━━━━━━━━━━━━━━━━━━━━━━━━━━━━━━\u001b[0m \u001b[32m19.9/19.9 MB\u001b[0m \u001b[31m53.1 MB/s\u001b[0m eta \u001b[36m0:00:00\u001b[0m\n",
            "\u001b[?25hCollecting lib==4.0.0\n",
            "  Downloading lib-4.0.0-py3-none-any.whl (4.0 kB)\n",
            "Collecting librosa==0.9.1\n",
            "  Downloading librosa-0.9.1-py3-none-any.whl (213 kB)\n",
            "\u001b[2K     \u001b[90m━━━━━━━━━━━━━━━━━━━━━━━━━━━━━━━━━━━━━━━━\u001b[0m \u001b[32m213.1/213.1 kB\u001b[0m \u001b[31m22.2 MB/s\u001b[0m eta \u001b[36m0:00:00\u001b[0m\n",
            "\u001b[?25hCollecting numpy==1.23.5\n",
            "  Downloading numpy-1.23.5-cp39-cp39-manylinux_2_17_x86_64.manylinux2014_x86_64.whl (17.1 MB)\n",
            "\u001b[2K     \u001b[90m━━━━━━━━━━━━━━━━━━━━━━━━━━━━━━━━━━━━━━━━\u001b[0m \u001b[32m17.1/17.1 MB\u001b[0m \u001b[31m77.6 MB/s\u001b[0m eta \u001b[36m0:00:00\u001b[0m\n",
            "\u001b[?25hCollecting onnxruntime_gpu\n",
            "  Downloading onnxruntime_gpu-1.19.2-cp39-cp39-manylinux_2_27_x86_64.manylinux_2_28_x86_64.whl (226.2 MB)\n",
            "\u001b[2K     \u001b[90m━━━━━━━━━━━━━━━━━━━━━━━━━━━━━━━━━━━━━━━━\u001b[0m \u001b[32m226.2/226.2 MB\u001b[0m \u001b[31m5.9 MB/s\u001b[0m eta \u001b[36m0:00:00\u001b[0m\n",
            "\u001b[?25hCollecting praat-parselmouth>=0.4.2\n",
            "  Downloading praat_parselmouth-0.4.4-cp39-cp39-manylinux_2_12_x86_64.manylinux2010_x86_64.whl (10.7 MB)\n",
            "\u001b[2K     \u001b[90m━━━━━━━━━━━━━━━━━━━━━━━━━━━━━━━━━━━━━━━━\u001b[0m \u001b[32m10.7/10.7 MB\u001b[0m \u001b[31m19.7 MB/s\u001b[0m eta \u001b[36m0:00:00\u001b[0m\n",
            "\u001b[?25hCollecting pedalboard==0.7.7\n",
            "  Downloading pedalboard-0.7.7-cp39-cp39-manylinux_2_17_x86_64.manylinux2014_x86_64.whl (3.3 MB)\n",
            "\u001b[2K     \u001b[90m━━━━━━━━━━━━━━━━━━━━━━━━━━━━━━━━━━━━━━━━\u001b[0m \u001b[32m3.3/3.3 MB\u001b[0m \u001b[31m90.9 MB/s\u001b[0m eta \u001b[36m0:00:00\u001b[0m\n",
            "\u001b[?25hCollecting pydub==0.25.1\n",
            "  Downloading pydub-0.25.1-py2.py3-none-any.whl (32 kB)\n",
            "Collecting pyworld==0.3.4\n",
            "  Downloading pyworld-0.3.4.tar.gz (251 kB)\n",
            "\u001b[2K     \u001b[90m━━━━━━━━━━━━━━━━━━━━━━━━━━━━━━━━━━━━━━━━\u001b[0m \u001b[32m252.0/252.0 kB\u001b[0m \u001b[31m24.1 MB/s\u001b[0m eta \u001b[36m0:00:00\u001b[0m\n",
            "\u001b[?25h  Installing build dependencies ... \u001b[?25l\u001b[?25hdone\n",
            "  Getting requirements to build wheel ... \u001b[?25l\u001b[?25hdone\n",
            "  Preparing metadata (pyproject.toml) ... \u001b[?25l\u001b[?25hdone\n",
            "Collecting Requests==2.31.0\n",
            "  Downloading requests-2.31.0-py3-none-any.whl (62 kB)\n",
            "\u001b[2K     \u001b[90m━━━━━━━━━━━━━━━━━━━━━━━━━━━━━━━━━━━━━━━━\u001b[0m \u001b[32m62.6/62.6 kB\u001b[0m \u001b[31m8.4 MB/s\u001b[0m eta \u001b[36m0:00:00\u001b[0m\n",
            "\u001b[?25hCollecting scipy==1.11.1\n",
            "  Downloading scipy-1.11.1-cp39-cp39-manylinux_2_17_x86_64.manylinux2014_x86_64.whl (36.5 MB)\n",
            "\u001b[2K     \u001b[90m━━━━━━━━━━━━━━━━━━━━━━━━━━━━━━━━━━━━━━━━\u001b[0m \u001b[32m36.5/36.5 MB\u001b[0m \u001b[31m17.2 MB/s\u001b[0m eta \u001b[36m0:00:00\u001b[0m\n",
            "\u001b[?25hCollecting soundfile==0.12.1\n",
            "  Downloading soundfile-0.12.1-py2.py3-none-manylinux_2_31_x86_64.whl (1.2 MB)\n",
            "\u001b[2K     \u001b[90m━━━━━━━━━━━━━━━━━━━━━━━━━━━━━━━━━━━━━━━━\u001b[0m \u001b[32m1.2/1.2 MB\u001b[0m \u001b[31m63.9 MB/s\u001b[0m eta \u001b[36m0:00:00\u001b[0m\n",
            "\u001b[?25hCollecting torch==2.0.1+cu118\n",
            "  Downloading https://download.pytorch.org/whl/cu118/torch-2.0.1%2Bcu118-cp39-cp39-linux_x86_64.whl (2267.3 MB)\n",
            "\u001b[2K     \u001b[90m━━━━━━━━━━━━━━━━━━━━━━━━━━━━━━━━━━━━━━━━\u001b[0m \u001b[32m2.3/2.3 GB\u001b[0m \u001b[31m535.0 kB/s\u001b[0m eta \u001b[36m0:00:00\u001b[0m\n",
            "\u001b[?25hCollecting torchcrepe==0.0.20\n",
            "  Downloading torchcrepe-0.0.20-py3-none-any.whl (72.3 MB)\n",
            "\u001b[2K     \u001b[90m━━━━━━━━━━━━━━━━━━━━━━━━━━━━━━━━━━━━━━━━\u001b[0m \u001b[32m72.3/72.3 MB\u001b[0m \u001b[31m9.4 MB/s\u001b[0m eta \u001b[36m0:00:00\u001b[0m\n",
            "\u001b[?25hCollecting tqdm==4.65.0\n",
            "  Downloading tqdm-4.65.0-py3-none-any.whl (77 kB)\n",
            "\u001b[2K     \u001b[90m━━━━━━━━━━━━━━━━━━━━━━━━━━━━━━━━━━━━━━━━\u001b[0m \u001b[32m77.1/77.1 kB\u001b[0m \u001b[31m11.6 MB/s\u001b[0m eta \u001b[36m0:00:00\u001b[0m\n",
            "\u001b[?25hCollecting yt_dlp==2023.7.6\n",
            "  Downloading yt_dlp-2023.7.6-py2.py3-none-any.whl (3.0 MB)\n",
            "\u001b[2K     \u001b[90m━━━━━━━━━━━━━━━━━━━━━━━━━━━━━━━━━━━━━━━━\u001b[0m \u001b[32m3.0/3.0 MB\u001b[0m \u001b[31m71.2 MB/s\u001b[0m eta \u001b[36m0:00:00\u001b[0m\n",
            "\u001b[?25hCollecting sox==1.4.1\n",
            "  Downloading sox-1.4.1-py2.py3-none-any.whl (39 kB)\n",
            "Collecting cffi\n",
            "  Downloading cffi-1.17.1-cp39-cp39-manylinux_2_17_x86_64.manylinux2014_x86_64.whl (445 kB)\n",
            "\u001b[2K     \u001b[90m━━━━━━━━━━━━━━━━━━━━━━━━━━━━━━━━━━━━━━━━\u001b[0m \u001b[32m445.2/445.2 kB\u001b[0m \u001b[31m42.1 MB/s\u001b[0m eta \u001b[36m0:00:00\u001b[0m\n",
            "\u001b[?25hCollecting sacrebleu>=1.4.12\n",
            "  Downloading sacrebleu-2.4.3-py3-none-any.whl (103 kB)\n",
            "\u001b[2K     \u001b[90m━━━━━━━━━━━━━━━━━━━━━━━━━━━━━━━━━━━━━━━━\u001b[0m \u001b[32m104.0/104.0 kB\u001b[0m \u001b[31m16.6 MB/s\u001b[0m eta \u001b[36m0:00:00\u001b[0m\n",
            "\u001b[?25hCollecting torchaudio>=0.8.0\n",
            "  Downloading torchaudio-2.4.1-cp39-cp39-manylinux1_x86_64.whl (3.4 MB)\n",
            "\u001b[2K     \u001b[90m━━━━━━━━━━━━━━━━━━━━━━━━━━━━━━━━━━━━━━━━\u001b[0m \u001b[32m3.4/3.4 MB\u001b[0m \u001b[31m103.9 MB/s\u001b[0m eta \u001b[36m0:00:00\u001b[0m\n",
            "\u001b[?25hCollecting cython\n",
            "  Using cached Cython-3.0.11-cp39-cp39-manylinux_2_17_x86_64.manylinux2014_x86_64.whl (3.6 MB)\n",
            "Collecting bitarray\n",
            "  Downloading bitarray-2.9.2-cp39-cp39-manylinux_2_17_x86_64.manylinux2014_x86_64.whl (286 kB)\n",
            "\u001b[2K     \u001b[90m━━━━━━━━━━━━━━━━━━━━━━━━━━━━━━━━━━━━━━━━\u001b[0m \u001b[32m286.0/286.0 kB\u001b[0m \u001b[31m32.8 MB/s\u001b[0m eta \u001b[36m0:00:00\u001b[0m\n",
            "\u001b[?25hCollecting hydra-core<1.1,>=1.0.7\n",
            "  Downloading hydra_core-1.0.7-py3-none-any.whl (123 kB)\n",
            "\u001b[2K     \u001b[90m━━━━━━━━━━━━━━━━━━━━━━━━━━━━━━━━━━━━━━━━\u001b[0m \u001b[32m123.8/123.8 kB\u001b[0m \u001b[31m16.9 MB/s\u001b[0m eta \u001b[36m0:00:00\u001b[0m\n",
            "\u001b[?25hCollecting regex\n",
            "  Downloading regex-2024.9.11-cp39-cp39-manylinux_2_17_x86_64.manylinux2014_x86_64.whl (781 kB)\n",
            "\u001b[2K     \u001b[90m━━━━━━━━━━━━━━━━━━━━━━━━━━━━━━━━━━━━━━━━\u001b[0m \u001b[32m782.0/782.0 kB\u001b[0m \u001b[31m59.8 MB/s\u001b[0m eta \u001b[36m0:00:00\u001b[0m\n",
            "\u001b[?25hCollecting omegaconf<2.1\n",
            "  Downloading omegaconf-2.0.6-py3-none-any.whl (36 kB)\n",
            "Collecting httpx\n",
            "  Downloading httpx-0.27.2-py3-none-any.whl (76 kB)\n",
            "\u001b[2K     \u001b[90m━━━━━━━━━━━━━━━━━━━━━━━━━━━━━━━━━━━━━━━━\u001b[0m \u001b[32m76.4/76.4 kB\u001b[0m \u001b[31m11.5 MB/s\u001b[0m eta \u001b[36m0:00:00\u001b[0m\n",
            "\u001b[?25hCollecting uvicorn>=0.14.0\n",
            "  Downloading uvicorn-0.31.0-py3-none-any.whl (63 kB)\n",
            "\u001b[2K     \u001b[90m━━━━━━━━━━━━━━━━━━━━━━━━━━━━━━━━━━━━━━━━\u001b[0m \u001b[32m63.7/63.7 kB\u001b[0m \u001b[31m9.7 MB/s\u001b[0m eta \u001b[36m0:00:00\u001b[0m\n",
            "\u001b[?25hCollecting python-multipart\n",
            "  Downloading python_multipart-0.0.12-py3-none-any.whl (23 kB)\n",
            "Collecting mdit-py-plugins<=0.3.3\n",
            "  Downloading mdit_py_plugins-0.3.3-py3-none-any.whl (50 kB)\n",
            "\u001b[2K     \u001b[90m━━━━━━━━━━━━━━━━━━━━━━━━━━━━━━━━━━━━━━━━\u001b[0m \u001b[32m50.5/50.5 kB\u001b[0m \u001b[31m7.5 MB/s\u001b[0m eta \u001b[36m0:00:00\u001b[0m\n",
            "\u001b[?25hCollecting pyyaml<7.0,>=5.0\n",
            "  Downloading PyYAML-6.0.2-cp39-cp39-manylinux_2_17_x86_64.manylinux2014_x86_64.whl (737 kB)\n",
            "\u001b[2K     \u001b[90m━━━━━━━━━━━━━━━━━━━━━━━━━━━━━━━━━━━━━━━━\u001b[0m \u001b[32m737.4/737.4 kB\u001b[0m \u001b[31m43.0 MB/s\u001b[0m eta \u001b[36m0:00:00\u001b[0m\n",
            "\u001b[?25h"
          ]
        }
      ],
      "source": [
        "#@title Install requirements\n",
        "!python -m pip install pip==23.0.1\n",
        "!pip install -r requirements.txt\n",
        "!sudo apt update\n",
        "!sudo apt install sox"
      ]
    },
    {
      "cell_type": "code",
      "execution_count": null,
      "metadata": {
        "id": "w0q4k7WyMXHX",
        "cellView": "form"
      },
      "outputs": [],
      "source": [
        "#@title Download MDXNet Vocal Separation and Hubert Base Models\n",
        "!python src/download_models.py"
      ]
    },
    {
      "cell_type": "code",
      "execution_count": null,
      "metadata": {
        "id": "9aMm_NgjUH4T",
        "cellView": "form"
      },
      "outputs": [],
      "source": [
        "#@title Model Download Function\n",
        "\n",
        "import os\n",
        "import zipfile\n",
        "import shutil\n",
        "import urllib.request\n",
        "\n",
        "BASE_DIR = os.getcwd()\n",
        "rvc_models_dir = os.path.join(BASE_DIR, 'rvc_models')\n",
        "\n",
        "def extract_zip(extraction_folder, zip_name):\n",
        "    os.makedirs(extraction_folder)\n",
        "    with zipfile.ZipFile(zip_name, 'r') as zip_ref:\n",
        "        zip_ref.extractall(extraction_folder)\n",
        "    os.remove(zip_name)\n",
        "\n",
        "    index_filepath, model_filepath = None, None\n",
        "    for root, dirs, files in os.walk(extraction_folder):\n",
        "        for name in files:\n",
        "            if name.endswith('.index') and os.stat(os.path.join(root, name)).st_size > 1024 * 100:\n",
        "                index_filepath = os.path.join(root, name)\n",
        "\n",
        "            if name.endswith('.pth') and os.stat(os.path.join(root, name)).st_size > 1024 * 1024 * 40:\n",
        "                model_filepath = os.path.join(root, name)\n",
        "\n",
        "    if not model_filepath:\n",
        "        raise Exception(f'No .pth model file was found in the extracted zip. Please check {extraction_folder}.')\n",
        "\n",
        "    # move model and index file to extraction folder\n",
        "    os.rename(model_filepath, os.path.join(extraction_folder, os.path.basename(model_filepath)))\n",
        "    if index_filepath:\n",
        "        os.rename(index_filepath, os.path.join(extraction_folder, os.path.basename(index_filepath)))\n",
        "\n",
        "    # remove any unnecessary nested folders\n",
        "    for filepath in os.listdir(extraction_folder):\n",
        "        if os.path.isdir(os.path.join(extraction_folder, filepath)):\n",
        "            shutil.rmtree(os.path.join(extraction_folder, filepath))\n",
        "\n",
        "def download_online_model(url, dir_name):\n",
        "    try:\n",
        "        print(f'[~] Downloading voice model with name {dir_name}...')\n",
        "        zip_name = url.split('/')[-1]\n",
        "        extraction_folder = os.path.join(rvc_models_dir, dir_name)\n",
        "        if os.path.exists(extraction_folder):\n",
        "            raise Exception(f'Voice model directory {dir_name} already exists! Choose a different name for your voice model.')\n",
        "\n",
        "        if 'pixeldrain.com' in url:\n",
        "            url = f'https://pixeldrain.com/api/file/{zip_name}'\n",
        "\n",
        "        urllib.request.urlretrieve(url, zip_name)\n",
        "\n",
        "        print('[~] Extracting zip...')\n",
        "        extract_zip(extraction_folder, zip_name)\n",
        "        print(f'[+] {dir_name} Model successfully downloaded!')\n",
        "\n",
        "    except Exception as e:\n",
        "        raise Exception(str(e))\n",
        "\n",
        "url = \"https://pixeldrain.com/u/3tJmABXA\" # @param {type:\"string\"}\n",
        "dir_name = \"Gura\" # @param {type:\"string\"}\n",
        "\n",
        "download_online_model(url, dir_name)"
      ]
    },
    {
      "cell_type": "code",
      "execution_count": null,
      "metadata": {
        "id": "B3BqnUoePVGd"
      },
      "outputs": [],
      "source": [
        "# @title Generate | Output generated inside \"AICoverGen\\song_output\\random_number\"\n",
        "# @markdown Main Option | You also can input audio path inside \"SONG_INPUT\"\n",
        "SONG_INPUT = \"https://www.youtube.com/watch?v=jgCVkQhlScc&pp=ygUFY3VwaWQ%3D\" # @param {type:\"string\"}\n",
        "RVC_DIRNAME = \"Gura\" # @param {type:\"string\"}\n",
        "PITCH_CHANGE = 0 # @param {type:\"integer\"}\n",
        "PITCH_CHANGE_ALL = 0 # @param {type:\"integer\"}\n",
        "# @markdown Voice Conversion Options\n",
        "INDEX_RATE = 0.5 # @param {type:\"number\"}\n",
        "FILTER_RADIUS = 3 # @param {type:\"integer\"}\n",
        "PITCH_DETECTION_ALGO = \"rmvpe\" # @param [\"rmvpe\", \"mangio-crepe\"]\n",
        "CREPE_HOP_LENGTH = 128 # @param {type:\"integer\"}\n",
        "PROTECT = 0.33 # @param {type:\"number\"}\n",
        "REMIX_MIX_RATE = 0.25  # @param {type:\"number\"}\n",
        "# @markdown Audio Mixing Options\n",
        "MAIN_VOL = 0 # @param {type:\"integer\"}\n",
        "BACKUP_VOL = 0 # @param {type:\"integer\"}\n",
        "INST_VOL = 0 # @param {type:\"integer\"}\n",
        "# @markdown Reverb Control\n",
        "REVERB_SIZE = 0.15 # @param {type:\"number\"}\n",
        "REVERB_WETNESS = 0.2 # @param {type:\"number\"}\n",
        "REVERB_DRYNESS = 0.8 # @param {type:\"number\"}\n",
        "REVERB_DAMPING = 0.7 # @param {type:\"number\"}\n",
        "# @markdown Output Format\n",
        "OUTPUT_FORMAT = \"mp3\" # @param [\"mp3\", \"wav\"]\n",
        "\n",
        "import subprocess\n",
        "\n",
        "command = [\n",
        "    \"python\",\n",
        "    \"src/main.py\",\n",
        "    \"-i\", SONG_INPUT,\n",
        "    \"-dir\", RVC_DIRNAME,\n",
        "    \"-p\", str(PITCH_CHANGE),\n",
        "    \"-k\",\n",
        "    \"-ir\", str(INDEX_RATE),\n",
        "    \"-fr\", str(FILTER_RADIUS),\n",
        "    \"-rms\", str(REMIX_MIX_RATE),\n",
        "    \"-palgo\", PITCH_DETECTION_ALGO,\n",
        "    \"-hop\", str(CREPE_HOP_LENGTH),\n",
        "    \"-pro\", str(PROTECT),\n",
        "    \"-mv\", str(MAIN_VOL),\n",
        "    \"-bv\", str(BACKUP_VOL),\n",
        "    \"-iv\", str(INST_VOL),\n",
        "    \"-pall\", str(PITCH_CHANGE_ALL),\n",
        "    \"-rsize\", str(REVERB_SIZE),\n",
        "    \"-rwet\", str(REVERB_WETNESS),\n",
        "    \"-rdry\", str(REVERB_DRYNESS),\n",
        "    \"-rdamp\", str(REVERB_DAMPING),\n",
        "    \"-oformat\", OUTPUT_FORMAT\n",
        "]\n",
        "\n",
        "# Open a subprocess and capture its output\n",
        "process = subprocess.Popen(command, stdout=subprocess.PIPE, stderr=subprocess.STDOUT, universal_newlines=True)\n",
        "\n",
        "# Print the output in real-time\n",
        "for line in process.stdout:\n",
        "    print(line, end='')\n",
        "\n",
        "# Wait for the process to finish\n",
        "process.wait()"
      ]
    },
    {
      "cell_type": "markdown",
      "source": [
        "Example of generated audio path\n",
        "\n",
        "![image_2023-09-20_182238723.png](data:image/png;base64,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)"
      ],
      "metadata": {
        "id": "7Hs7P0QYHHZJ"
      }
    }
  ],
  "metadata": {
    "accelerator": "GPU",
    "colab": {
      "provenance": [],
      "include_colab_link": true
    },
    "kernelspec": {
      "display_name": "Python 3",
      "name": "python3"
    },
    "language_info": {
      "name": "python"
    }
  },
  "nbformat": 4,
  "nbformat_minor": 0
}